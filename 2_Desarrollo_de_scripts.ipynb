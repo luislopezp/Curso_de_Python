{
 "cells": [
  {
   "cell_type": "markdown",
   "metadata": {
    "id": "6anX9KDIb5bw"
   },
   "source": [
    "<center>\n",
    "    \n",
    "    \n",
    "# Curso de Python básico\n",
    "## Instituto Mexicano del Petróleo\n",
    "\n",
    "### Dra. Gabriela Berenice Díaz Cortés (gbdiaz@imp.mx)\n",
    "\n",
    "### Dr. Luis Antonio López Peña (llopezp@imp.mx) \n",
    "\n",
    "#### Dirección de Investigación en Exploración y Producción\n",
    "#### Gerencia de Ingeniería de Yacimientos"
   ]
  },
  {
   "cell_type": "markdown",
   "metadata": {
    "id": "ee92b65cWpvl"
   },
   "source": [
    "## Desarrollo de scripts\n",
    "\n",
    "* **Operadores en Python**\n",
    "    - Operadores de comparación\n",
    "    - Operadores lógicos\n",
    "\n",
    "* **Ciclos y condicionales**\n",
    "    - Condicionales if\n",
    "    - Ciclos while\n",
    "    - Ciclos for\n",
    "    - Ciclos anidados\n",
    "\n",
    "* **Funciones**\n",
    "    - Definición de funciones\n",
    "    - Funciones con argumentos indeterminados\n",
    "    - Funciones con argumentos keywords\n",
    "    - Funciones anónimas\n",
    "\n",
    "* **Variables locales y variables globales**\n"
   ]
  },
  {
   "cell_type": "markdown",
   "metadata": {
    "id": "MCZ_3hweZ1Qf"
   },
   "source": [
    "## Operadores de comparación\n",
    "\n",
    "\n",
    "\n",
    "Además de las operaciones básicas, las variables se pueden comparar. Los operadores de comparación son operadores que regresan valores booleanos, es decir True or False. Son importantes para flujo de control en condiconales if y en ciclos while. \n",
    "\\begin{array}{|c|l|} \\hline\n",
    "Símbolo  & Operación      \\\\ \\hline\n",
    "<        & \\text{Menor que} \\\\ \\hline\n",
    ">        & \\text{Mayor que} \\\\ \\hline\n",
    "<=       & \\text{Menor o igual que}\\\\ \\hline\n",
    ">=       & \\text{Mayor o igual que} \\\\ \\hline\n",
    "==       & \\text{Igual a}\\\\ \\hline\n",
    "!=       & \\text{Diferente de}\\\\ \\hline\n",
    "\\end{array}"
   ]
  },
  {
   "cell_type": "code",
   "execution_count": 1,
   "metadata": {
    "id": "W54Qh0_cb5by"
   },
   "outputs": [],
   "source": [
    "a = 2 \n",
    "b = 1.99\n",
    "c = '2'\n",
    "print('a = {}, b = {}, c  = \\'{}\\' '.format(a,b,c))\n",
    "#print(c)"
   ]
  },
  {
   "cell_type": "code",
   "execution_count": 2,
   "metadata": {
    "id": "Un1eMrrwb5bz"
   },
   "outputs": [],
   "source": [
    "print('a > b,  {}'.format(a > b))\n"
   ]
  },
  {
   "cell_type": "code",
   "execution_count": 3,
   "metadata": {
    "id": "ZLts-tn4b5b0"
   },
   "outputs": [],
   "source": [
    "print('a < b,  {}'.format(a < b))\n"
   ]
  },
  {
   "cell_type": "code",
   "execution_count": 4,
   "metadata": {
    "id": "4Ok_jHIgb5b0"
   },
   "outputs": [],
   "source": [
    "print('a == c, {}'.format(a == c))\n"
   ]
  },
  {
   "cell_type": "code",
   "execution_count": 5,
   "metadata": {
    "id": "vcs7XvdTb5b0"
   },
   "outputs": [],
   "source": [
    "print('a != c, {}'.format(a != c))"
   ]
  },
  {
   "cell_type": "code",
   "execution_count": 6,
   "metadata": {
    "id": "Qr-mWRWxb5b0"
   },
   "outputs": [],
   "source": [
    "a = 5\n",
    "b = 3\n",
    "print('a = {}, b = {}, a % b = {}'.format(a,b,a%b))\n",
    "print('a- a%b = {}, b = {}'.format(a-a%b,b))\n"
   ]
  },
  {
   "cell_type": "markdown",
   "metadata": {
    "id": "OYc02uENLvr3"
   },
   "source": [
    "## El módulo\n",
    "\n",
    "La operación módulo obtiene el residuo de la división entera de 2 números.\n"
   ]
  },
  {
   "cell_type": "code",
   "execution_count": 7,
   "metadata": {
    "id": "1cGL2VcALvKp"
   },
   "outputs": [],
   "source": [
    "6%4"
   ]
  },
  {
   "cell_type": "code",
   "execution_count": 8,
   "metadata": {
    "id": "rZEd7QpVLzsr"
   },
   "outputs": [],
   "source": [
    "3%5"
   ]
  },
  {
   "cell_type": "code",
   "execution_count": 9,
   "metadata": {
    "id": "rVHXC7b1L1IA"
   },
   "outputs": [],
   "source": [
    "3%5==8"
   ]
  },
  {
   "cell_type": "code",
   "execution_count": 10,
   "metadata": {
    "id": "kYWV03NYL2lQ"
   },
   "outputs": [],
   "source": [
    "a = 5\n",
    "b = 3\n",
    "print('a = {}, b = {}, a % b = {}'.format(a,b,a%b))"
   ]
  },
  {
   "cell_type": "markdown",
   "metadata": {
    "id": "dqoQnxW7_cJ8"
   },
   "source": [
    "## Challenge break\n",
    "### 1\n",
    "Considere que a=4, b=10, c=5 d=1 y f=5, llena la tabla con el resultado de cada una de las siguientes operaciones\n",
    "\n",
    "\n",
    "\\begin{array}{|c|l|} \\hline\n",
    "Expresión  & Resultado      \\\\ \\hline\n",
    "a==c        & False \\\\ \\hline\n",
    "a<b        & True\\\\ \\hline\n",
    "d>b       & False \\\\ \\hline\n",
    "c!= f       & False \\\\ \\hline\n",
    "a==b       & False\\\\ \\hline\n",
    "c>d       & True \\\\ \\hline\n",
    "b>a       & True \\\\ \\hline\n",
    "c>= f       & True \\\\ \\hline\n",
    "a>=c       & False\\\\ \\hline\n",
    "c<=c       & True\\\\ \\hline\n",
    "13\\text{%} 12       & 1 \\\\ \\hline\n",
    "18\\text{%} 3       &0 \\\\ \\hline\n",
    "10\\text{%} 1       &0 \\\\ \\hline\n",
    "4\\text{%} 8       & 4\\\\ \\hline\n",
    "\\end{array}\n",
    "\n",
    "\n"
   ]
  },
  {
   "cell_type": "code",
   "execution_count": 11,
   "metadata": {
    "id": "q4I4U0zsD1WC"
   },
   "outputs": [],
   "source": [
    "a=4 \n",
    "b=10 \n",
    "c=5 \n",
    "d=1\n",
    "f=5"
   ]
  },
  {
   "cell_type": "code",
   "execution_count": 12,
   "metadata": {
    "id": "R2fVYT8rL-fM"
   },
   "outputs": [],
   "source": [
    "c!=f"
   ]
  },
  {
   "cell_type": "code",
   "execution_count": 13,
   "metadata": {
    "id": "kHFv3X1dMAHI"
   },
   "outputs": [],
   "source": [
    "10%1==0"
   ]
  },
  {
   "cell_type": "markdown",
   "metadata": {
    "id": "AYQcLyLBb5b0"
   },
   "source": [
    "## Operadores Lógicos\n",
    "\n",
    "Los operadores lógicos se pueden usar en conjunto con las expresiones booleanas para crear condiciones mas complejas.\n",
    "\n",
    "\\begin{array}{|c|l|} \\hline\n",
    "Operador  & Descripción     \\\\ \\hline\n",
    "and        & \\text{Es verdadero si ambas condiciones son ciertas. Es falso si alguna de las 2 conciciones son falsas} \\\\ \\hline\n",
    "or        & \\text{Es verdadero si una de las 2 condiciones son ciertas. Es falso si las 2 condiciones son falsas } \\\\ \\hline\n",
    "not        & \\text{Es verdadero si el valor a prueba es falso. Es falso su el valor a evaluar es verdadero} \\\\ \\hline\n",
    "\\end{array}\n",
    "\n",
    "\n",
    "Estos operadores se pueden describir explícitamente con sus tablas de verdad. La tabla de verdad muestratra el resultado de una operación con uno o dos valores lógicos u operandos. Cuando el operador utiliza solo un operando, decimos que es un operador unario y si utiliza dos operando se conoce como un operador binario\n",
    "\n",
    "## Operador and\n",
    "\n",
    "La tabla de verdad del operador and se muestra a continuación:\n",
    "\n",
    "\\begin{array}{|c|l|c|} \\hline\n",
    "\\text{P1}  & \\text{P2} & \\text{P1 and P2}     \\\\ \\hline\n",
    "V &  V     & V \\\\ \\hline\n",
    "V  & F     & F \\\\ \\hline\n",
    "F  & V    & F \\\\ \\hline\n",
    "F &  F    &  F\\\\ \\hline\n",
    "\\end{array}"
   ]
  },
  {
   "cell_type": "code",
   "execution_count": 14,
   "metadata": {
    "id": "So84bL6Vb5b1"
   },
   "outputs": [],
   "source": [
    "True and True\n"
   ]
  },
  {
   "cell_type": "code",
   "execution_count": 15,
   "metadata": {
    "id": "4gvPsjnLHOz-"
   },
   "outputs": [],
   "source": [
    "a = 5\n",
    "b = 3\n",
    "\n",
    "print(a>b and b>a)"
   ]
  },
  {
   "cell_type": "code",
   "execution_count": 16,
   "metadata": {
    "id": "LJ85DpPjb5b1"
   },
   "outputs": [],
   "source": [
    "a = 5\n",
    "b = 3\n",
    "c = 10\n",
    "d = 10.0000000001\n",
    "\n",
    "print(a>b and c<d)"
   ]
  },
  {
   "cell_type": "markdown",
   "metadata": {
    "id": "GGCU35DgHa5l"
   },
   "source": [
    "## Operador or\n",
    "\n",
    "La tabla de verdad del operador and se muestra a continuación:\n",
    "\n",
    "\\begin{array}{|c|l|c|} \\hline\n",
    "P1  & P2 & P1 or P2     \\\\ \\hline\n",
    "V &  V     & V \\\\ \\hline\n",
    "V  & F     & V \\\\ \\hline\n",
    "F  & V    & V \\\\ \\hline\n",
    "F &  F    &  F\\\\ \\hline\n",
    "\\end{array}"
   ]
  },
  {
   "cell_type": "code",
   "execution_count": 17,
   "metadata": {
    "colab": {
     "base_uri": "https://localhost:8080/"
    },
    "id": "ARpjWDzUb5b1",
    "outputId": "5304d678-43c1-43d0-b4ec-4e5cb8ed105a"
   },
   "outputs": [],
   "source": [
    "True or False"
   ]
  },
  {
   "cell_type": "code",
   "execution_count": 18,
   "metadata": {
    "id": "I5YLgkU9IGlx"
   },
   "outputs": [],
   "source": [
    "a = 5\n",
    "b = 3\n",
    "\n",
    "print(a>b or b>a)"
   ]
  },
  {
   "cell_type": "markdown",
   "metadata": {
    "id": "Wa9BLDVJIiJB"
   },
   "source": [
    "## Operador not\n",
    "EL operador not es el más simple pues solo necesita un operando. La tabla de verdad der este operador se muestra a continuación:\n",
    "\n",
    "\\begin{array}{|c|l|} \\hline\n",
    "P1  & not P1      \\\\ \\hline\n",
    "V &  F     \\\\ \\hline\n",
    "F  & V     \\\\ \\hline\n",
    "\\end{array}"
   ]
  },
  {
   "cell_type": "code",
   "execution_count": 19,
   "metadata": {
    "id": "WVGqvMmjb5b1"
   },
   "outputs": [],
   "source": [
    "not True"
   ]
  },
  {
   "cell_type": "code",
   "execution_count": 20,
   "metadata": {
    "id": "AVwmeXzyJYCQ"
   },
   "outputs": [],
   "source": [
    "print(not(a>b and b>a))"
   ]
  },
  {
   "cell_type": "markdown",
   "metadata": {
    "id": "_FJQsWsBb5b1"
   },
   "source": [
    "## Challenge break \n",
    "### 2\n",
    "Considera que a=True, b=False y c= True, completa la tabla con los resultados de las operacioens indicadas\n",
    "\n",
    "\n",
    "\\begin{array}{|c|l|} \\hline\n",
    "Expresión  & Resultado      \\\\ \\hline\n",
    "\\text{a  and a}        &  \\\\ \\hline\n",
    "\\text{not c}        &  \\\\ \\hline\n",
    "\\text{a and b}       & \\\\ \\hline\n",
    "\\text{b and c}       &  \\\\ \\hline\n",
    "\\text{a or c}       & \\\\ \\hline\n",
    "\\text{b or c}       & \\\\ \\hline\n",
    "\\text{c or c}       & \\\\ \\hline\n",
    "\\text{c or a}       &  \\\\ \\hline\n",
    "\\text{a>=c}       & \\\\ \\hline\n",
    "\\text {c<=c}       & \\\\ \\hline\n",
    "\\end{array}\n",
    "\n"
   ]
  },
  {
   "cell_type": "code",
   "execution_count": null,
   "metadata": {
    "id": "SeM2BCgwl1nQ"
   },
   "outputs": [],
   "source": []
  },
  {
   "cell_type": "markdown",
   "metadata": {
    "id": "SOViZEX9L_Ts"
   },
   "source": [
    "## Expresiones lógicas \n",
    "\n",
    "Cuando una expresión tienen más de un operador lógico, se evalua el operador not primero, seguido del operador and y finalmente el operador or.\n",
    "\n",
    "True or False and not True\n",
    "\n"
   ]
  },
  {
   "cell_type": "code",
   "execution_count": 21,
   "metadata": {
    "id": "BmUqxfkzP3dD"
   },
   "outputs": [],
   "source": [
    "True or False and not True"
   ]
  },
  {
   "cell_type": "code",
   "execution_count": 22,
   "metadata": {
    "id": "xx51RH50QMvb"
   },
   "outputs": [],
   "source": [
    "True and False and not True"
   ]
  },
  {
   "cell_type": "code",
   "execution_count": 23,
   "metadata": {
    "id": "YzSfXVzwQnk_"
   },
   "outputs": [],
   "source": [
    "True or not False and True"
   ]
  },
  {
   "cell_type": "markdown",
   "metadata": {
    "id": "fY--NIU1UMJy"
   },
   "source": [
    "Los operadores de comparación pueden ser usados en expresiones con operaciones lógicos."
   ]
  },
  {
   "cell_type": "code",
   "execution_count": 24,
   "metadata": {
    "id": "Qbv_vjPMUWAB"
   },
   "outputs": [],
   "source": [
    "salario =100\n",
    "edad=20\n",
    "\n",
    "salario > 1000 and edad >18"
   ]
  },
  {
   "cell_type": "markdown",
   "metadata": {
    "id": "sIETKcepU9GO"
   },
   "source": [
    "## Challenge break \n",
    "### 3\n",
    "Escriba el resultado de la siguiente expresión A > B and C or D\n",
    "\n",
    "\\begin{array}{|c|l|c|c|c|} \\hline\n",
    "A  & B & C & D & Resultado     \\\\ \\hline\n",
    "1 &  2 & True & False    &  \\\\ \\hline\n",
    "2 &  1 & False & True    &  \\\\ \\hline\n",
    "10 &  3 & False & False    &  \\\\ \\hline\n",
    "5 &  1 & True & True    &  \\\\ \\hline\n",
    "5 &  5 & True & False    &  \\\\ \\hline\n",
    "\\end{array}"
   ]
  },
  {
   "cell_type": "code",
   "execution_count": null,
   "metadata": {
    "id": "kA5brDXsWEUL"
   },
   "outputs": [],
   "source": []
  },
  {
   "cell_type": "markdown",
   "metadata": {
    "id": "Wqw-u8uwb5b2"
   },
   "source": [
    "## Condicionales\n",
    "Los condicionales se usan para realizar una operación si (if) algo pasa, la sintaxis es la siguiente.\n",
    "### If\n",
    "\\begin{array}{ll} \n",
    "if    & condición:     \\\\\n",
    "      & \\text{operaciones} \\\\ \n",
    "\\end{array}\n",
    "\n"
   ]
  },
  {
   "cell_type": "code",
   "execution_count": 25,
   "metadata": {
    "id": "HQ-WLcg6cDHK"
   },
   "outputs": [
    {
     "name": "stdout",
     "output_type": "stream",
     "text": [
      "-5  es negativo\n"
     ]
    }
   ],
   "source": [
    "num = -5\n",
    "if num <0:\n",
    "  print(num, ' es negativo')"
   ]
  },
  {
   "cell_type": "code",
   "execution_count": 26,
   "metadata": {
    "id": "HrPHMIj4h2QV"
   },
   "outputs": [
    {
     "name": "stdout",
     "output_type": "stream",
     "text": [
      "Primer valor: 6\n",
      "Segundo valor: 3\n",
      "¡El primer número es el mayor!\n"
     ]
    }
   ],
   "source": [
    "a = int(input(\"Primer valor: \"))\n",
    "b = int(input(\"Segundo valor: \"))\n",
    "\n",
    "if a > b:\n",
    "  print(\"¡El primer número es el mayor!\")"
   ]
  },
  {
   "cell_type": "markdown",
   "metadata": {
    "id": "d6nCbDYUm_PW"
   },
   "source": [
    "## Challenge break \n",
    "### 4\n",
    "\n",
    "Escribir un programa que pregunte la velocidad del auto de un usuario. En caso que supere los 80km/h, que muestre un mensaje diciendo que el usuario fue multado."
   ]
  },
  {
   "cell_type": "code",
   "execution_count": null,
   "metadata": {
    "id": "MJ_ZsZ1WoUkW"
   },
   "outputs": [],
   "source": []
  },
  {
   "cell_type": "markdown",
   "metadata": {
    "id": "kTi00id-pYbZ"
   },
   "source": [
    "## Challenge break \n",
    "### 5\n",
    "\n",
    "Escribir un programa que pregunte la velocidad del auto de un usuario. En caso que supere los 80km/h, que muestre un mensaje diciendo que el usuario fue multado. En este caso, exhibir el valor de la multa, cobrando 200 pesos por cada km/h encima de los 80 km/h\n",
    "\n"
   ]
  },
  {
   "cell_type": "code",
   "execution_count": null,
   "metadata": {
    "id": "Bqptz0BkqfK6"
   },
   "outputs": [],
   "source": []
  },
  {
   "cell_type": "markdown",
   "metadata": {
    "id": "DYV-SOhieIVE"
   },
   "source": [
    "## if y else\n",
    "Si la condición en la declaracioń if es falsa, se ejecutará la parte del código depsues del else.\n",
    "\n",
    "\\begin{array}{ll} \n",
    "if    & condición:     \\\\\n",
    "      & \\text{operaciones} \\\\ \n",
    "else: & \\\\\n",
    "      & \\text{operaciones} \\\\ \n",
    "\\end{array}\n"
   ]
  },
  {
   "cell_type": "code",
   "execution_count": 27,
   "metadata": {
    "id": "bSk1sV3ub5b2"
   },
   "outputs": [
    {
     "name": "stdout",
     "output_type": "stream",
     "text": [
      "Ingresa un nuevo número: 6\n",
      "El número es no negativo\n"
     ]
    }
   ],
   "source": [
    "num = int(input('Ingresa un nuevo número: '))\n",
    "if num < 0:\n",
    "  print('El número es negativo')\n",
    "else:\n",
    "  print('El número es no negativo')"
   ]
  },
  {
   "cell_type": "markdown",
   "metadata": {
    "id": "7oFR6ueDBzZt"
   },
   "source": [
    "## Challenge break \n",
    "### 6\n",
    "Escribir un programa que pregunte el salario de un empleado y calcule el valor del aumento. Para salarios superiores a 20000 pesos, el aumento sera de 10%. Para salarios inferiores o iguales a 20000 el aumento será del 15%."
   ]
  },
  {
   "cell_type": "code",
   "execution_count": null,
   "metadata": {
    "id": "WllBuzd2CgkA"
   },
   "outputs": [],
   "source": []
  },
  {
   "cell_type": "markdown",
   "metadata": {
    "id": "NfMISUVkX_Y4"
   },
   "source": [
    "## Challenge break \n",
    "### 7\n",
    " Escribe un programa que pruebe si un número es par o impar. \n"
   ]
  },
  {
   "cell_type": "code",
   "execution_count": null,
   "metadata": {
    "id": "WND9raLKayNc"
   },
   "outputs": [],
   "source": []
  },
  {
   "cell_type": "markdown",
   "metadata": {
    "id": "tX6tRmmzAFus"
   },
   "source": [
    "##if, elif, else\n",
    "En el caso en que se necesitan evaluar distintas condiciones, se utiliza la siguiente estructura,\n",
    "\n",
    "\\begin{array}{ll} \n",
    "if    & condición:     \\\\\n",
    "      & \\text{operaciones} \\\\ \n",
    "elif  & condición:     \\\\ \n",
    "      & \\text{operaciones} \\\\ \n",
    "else: & \\\\\n",
    "      & \\text{operaciones} \\\\ \n",
    "\\end{array}\n",
    "Cada declaración se ejecuta solo si la anterior resultó Falsa."
   ]
  },
  {
   "cell_type": "code",
   "execution_count": 28,
   "metadata": {
    "id": "Y64SHLO1GrPI"
   },
   "outputs": [
    {
     "name": "stdout",
     "output_type": "stream",
     "text": [
      "Enter how much you have in savings: 10\n",
      "Well done\n"
     ]
    }
   ],
   "source": [
    "savings = float(input(\"Enter how much you have in savings: \"))\n",
    "if savings == 0:\n",
    "  print(\"Sorry no savings\")\n",
    "elif savings < 500:\n",
    "  print('Well done')\n",
    "elif savings < 1000:\n",
    "  print('Thats a tidy sum')\n",
    "elif savings < 10000:\n",
    "  print('Welcome Sir!')\n",
    "else:\n",
    "  print('Thank you')"
   ]
  },
  {
   "cell_type": "code",
   "execution_count": 29,
   "metadata": {
    "colab": {
     "base_uri": "https://localhost:8080/"
    },
    "id": "Pub8XMMoAM8N",
    "outputId": "fb88bdbc-81e2-415a-ebbf-705fc0c415f6"
   },
   "outputs": [
    {
     "name": "stdout",
     "output_type": "stream",
     "text": [
      " 'b'  es mayor a 'a'  o 'b' es mayor a 'c' \n"
     ]
    }
   ],
   "source": [
    "a = 101\n",
    "b = 100\n",
    "c = 500\n",
    "\n",
    "if  a > b or b> c:\n",
    "    print( ' \\'b\\'  es mayor a \\'a\\'  o \\'b\\' es mayor a \\'c\\' ' )\n",
    "elif a < b and b< c:\n",
    "    print( ' a es menor que b y b es menor que c')\n",
    "else:\n",
    "    print('Cualquier otro')"
   ]
  },
  {
   "cell_type": "code",
   "execution_count": 30,
   "metadata": {
    "id": "OEWWBAUMAqbz"
   },
   "outputs": [
    {
     "name": "stdout",
     "output_type": "stream",
     "text": [
      "c:  10\n"
     ]
    }
   ],
   "source": [
    "a = 20\n",
    "b = 10\n",
    "if a < b:\n",
    "    c = a*b\n",
    "elif a==b:\n",
    "    c = a+b\n",
    "else:\n",
    "    c = a-b  \n",
    "print ('c: ',c)"
   ]
  },
  {
   "cell_type": "markdown",
   "metadata": {
    "id": "peNqR05aIOBX"
   },
   "source": [
    "## Challenge break \n",
    "### 8\n",
    "Escribe un programa que pruebe si un número es positivo o negativo"
   ]
  },
  {
   "cell_type": "code",
   "execution_count": null,
   "metadata": {
    "id": "l9LdQAeqbQuY"
   },
   "outputs": [],
   "source": []
  },
  {
   "cell_type": "markdown",
   "metadata": {
    "id": "5wOm1to5b5b2"
   },
   "source": [
    "## Ciclos\n",
    "\n",
    "Los ciclos en programación se utilizan para relizar acciones repetitivas de manera automática.\n",
    "### While\n",
    "El ciclo while sirve para realizar operaciones de manera repetida siempre y cuando se cumplan una o varias condiciones. La sintaxis es la siguiente.\n",
    "\n",
    "\n",
    "\\begin{array}{ll} \n",
    "while & condición:     \\\\\n",
    "      & \\text{operaciones} \\\\ \n",
    "\\end{array}\n",
    "\n",
    "\n",
    "\\begin{array}{ll} \n",
    "while & \\text{(condición1) and/or (condición2)}:     \\\\\n",
    "      & \\text{operaciones} \\\\ \n",
    "\\end{array}\n",
    "\n",
    "\n",
    "<center>\n",
    "<img src=\"https://github.com/gbdiazc/Images/blob/6998851d3c940565da46ba3aaa1e004a5b05f667/W_loop.png?raw=1\" width=\"300\"> \n",
    "</center>\n"
   ]
  },
  {
   "cell_type": "markdown",
   "metadata": {
    "id": "_apqGTmdb5b3"
   },
   "source": [
    " **Ejemplo**\n",
    "Se realiza un ciclo hasta que:\n",
    "\n",
    "a) Se alcance el máximo número de iteraciones\n"
   ]
  },
  {
   "cell_type": "code",
   "execution_count": 31,
   "metadata": {
    "id": "fUWcz7Wbat0s"
   },
   "outputs": [
    {
     "name": "stdout",
     "output_type": "stream",
     "text": [
      "1\n",
      "2\n",
      "3\n"
     ]
    }
   ],
   "source": [
    "x=1 \n",
    "while x <= 3:\n",
    "  print(x)\n",
    "  x = x + 1 "
   ]
  },
  {
   "cell_type": "markdown",
   "metadata": {
    "id": "2XdT4XRWX90f"
   },
   "source": [
    "**Ejemplo** Iniciando con una variable p = 1, multiplicar esta variable por 0.1 y parar cuando p < Tol = 1e-7\n"
   ]
  },
  {
   "cell_type": "code",
   "execution_count": 32,
   "metadata": {
    "id": "TozoKGi8YCE3"
   },
   "outputs": [
    {
     "name": "stdout",
     "output_type": "stream",
     "text": [
      "p = 0.1\n",
      "p = 0.010000000000000002\n",
      "p = 0.0010000000000000002\n",
      "p = 0.00010000000000000003\n",
      "p = 1.0000000000000004e-05\n",
      "p = 1.0000000000000004e-06\n",
      "p = 1.0000000000000005e-07\n",
      "p = 1.0000000000000005e-08\n"
     ]
    }
   ],
   "source": [
    "Tol      = 1e-7\n",
    "p        = 1.0\n",
    "while (p > Tol):\n",
    "        p = p*0.1\n",
    "        print('p = {}'.format(p))"
   ]
  },
  {
   "cell_type": "markdown",
   "metadata": {
    "id": "pQVbzOBGbvkE"
   },
   "source": [
    "## Challenge break \n",
    "### 9\n",
    "Modificar el código anterior para que se impriman los números del 1 al 100"
   ]
  },
  {
   "cell_type": "code",
   "execution_count": null,
   "metadata": {
    "id": "2lEkly6EcA3e"
   },
   "outputs": [],
   "source": []
  },
  {
   "cell_type": "markdown",
   "metadata": {
    "id": "iRYIshsXb7Ii"
   },
   "source": [
    "### 10 \n",
    "Modificar el código anterior para que se impriman los números del 50 al 100"
   ]
  },
  {
   "cell_type": "code",
   "execution_count": null,
   "metadata": {
    "id": "mVZX0xXMcLGg"
   },
   "outputs": [],
   "source": []
  },
  {
   "cell_type": "markdown",
   "metadata": {
    "id": "ugxPE78WcUgO"
   },
   "source": [
    "### Ejemplos"
   ]
  },
  {
   "cell_type": "code",
   "execution_count": 33,
   "metadata": {
    "id": "IYMI-26mbbzB"
   },
   "outputs": [
    {
     "name": "stdout",
     "output_type": "stream",
     "text": [
      "contador = 1\n",
      "contador = 2\n",
      "contador = 3\n",
      "contador = 4\n",
      "contador = 5\n",
      "contador = 6\n",
      "contador = 7\n",
      "contador = 8\n",
      "contador = 9\n",
      "contador = 10\n"
     ]
    }
   ],
   "source": [
    "MaxIter  = 10\n",
    "contador = 0\n",
    "while (contador < MaxIter):\n",
    "        contador +=  1\n",
    "        print('contador = {}'.format(contador))  "
   ]
  },
  {
   "cell_type": "markdown",
   "metadata": {
    "id": "xSdcSV8Bb5b3"
   },
   "source": [
    "## Ciclos infinitos"
   ]
  },
  {
   "cell_type": "code",
   "execution_count": 34,
   "metadata": {
    "id": "KEtkg8-Nb5b3"
   },
   "outputs": [
    {
     "name": "stdout",
     "output_type": "stream",
     "text": [
      "1 h\n",
      "2 h\n",
      "3 h\n",
      "4 h\n",
      "5 h\n",
      "6 h\n",
      "7 h\n",
      "8 h\n",
      "9 h\n",
      "10 h\n"
     ]
    }
   ],
   "source": [
    "a = 5\n",
    "b = 10\n",
    "h = 0\n",
    "Maxiter = 10\n",
    "while a < b and  h < Maxiter:\n",
    "    h= h+1\n",
    "    print(h, 'h')"
   ]
  },
  {
   "cell_type": "markdown",
   "metadata": {
    "id": "YEme7YRab5b4"
   },
   "source": [
    "### For\n",
    "El ciclo for sirve para realizar operaciones un detrminado número de veces, que se conoce con antelación. La sintaxis es como sigue.\n",
    "\n",
    "\\begin{array}{ll} \n",
    "for & \\text{variable in range(0,n):}     \\\\\n",
    "      & \\text{operaciones} \\\\ \n",
    "\\end{array}\n",
    "\n",
    "<center>\n",
    "<img src=\"https://github.com/gbdiazc/Images/blob/6998851d3c940565da46ba3aaa1e004a5b05f667/F_loop.png?raw=1\" width=\"300\"> \n",
    "</center>"
   ]
  },
  {
   "cell_type": "code",
   "execution_count": 35,
   "metadata": {
    "id": "f326j_EiZvCD"
   },
   "outputs": [
    {
     "name": "stdout",
     "output_type": "stream",
     "text": [
      "0  \n",
      "1  \n",
      "2  \n",
      "3  \n",
      "4  \n",
      "5  \n",
      "6  \n",
      "7  \n",
      "8  \n",
      "9  \n"
     ]
    }
   ],
   "source": [
    "for i in range(0, 10):\n",
    "  print(i, ' ')"
   ]
  },
  {
   "cell_type": "code",
   "execution_count": 36,
   "metadata": {
    "id": "FeON8Kmdb5b4"
   },
   "outputs": [
    {
     "name": "stdout",
     "output_type": "stream",
     "text": [
      "[0, 1, 2, 3, 4, 5, 6, 7, 8, 9, 10, 11, 12, 13, 14]\n"
     ]
    }
   ],
   "source": [
    "# Ejemplo: este programa agrega valores a una lista a\n",
    "nMax = 15\n",
    "a = []\n",
    "for n in range(0,nMax):\n",
    "    a.append(n)\n",
    "print(a)"
   ]
  },
  {
   "cell_type": "markdown",
   "metadata": {
    "id": "CdSMKgREek7c"
   },
   "source": [
    "## Challenge break \n",
    "### 11\n",
    "Calcula el factorial de un número entero"
   ]
  },
  {
   "cell_type": "code",
   "execution_count": null,
   "metadata": {
    "id": "zu0fY5pye15v"
   },
   "outputs": [],
   "source": []
  },
  {
   "cell_type": "code",
   "execution_count": 37,
   "metadata": {
    "id": "y8cacjEDVfSr"
   },
   "outputs": [
    {
     "data": {
      "text/plain": [
       "120"
      ]
     },
     "execution_count": 37,
     "metadata": {},
     "output_type": "execute_result"
    }
   ],
   "source": [
    "5*4*3*2*1\n"
   ]
  },
  {
   "cell_type": "markdown",
   "metadata": {
    "id": "1yp240_3b5b4"
   },
   "source": [
    "## Ciclos anidados"
   ]
  },
  {
   "cell_type": "code",
   "execution_count": 38,
   "metadata": {
    "id": "SsX9VaA9b5b4"
   },
   "outputs": [
    {
     "name": "stdout",
     "output_type": "stream",
     "text": [
      "0 0 i j\n",
      "0 1 i j\n",
      "0 2 i j\n",
      "0 3 i j\n",
      "0 4 i j\n",
      "0 5 i j\n",
      "0 6 i j\n",
      "0 7 i j\n",
      "0 8 i j\n",
      "0 9 i j\n",
      "1 0 i j\n",
      "1 1 i j\n",
      "1 2 i j\n",
      "1 3 i j\n",
      "1 4 i j\n",
      "1 5 i j\n",
      "1 6 i j\n",
      "1 7 i j\n",
      "1 8 i j\n",
      "1 9 i j\n",
      "2 0 i j\n",
      "2 1 i j\n",
      "2 2 i j\n",
      "2 3 i j\n",
      "2 4 i j\n",
      "2 5 i j\n",
      "2 6 i j\n",
      "2 7 i j\n",
      "2 8 i j\n",
      "2 9 i j\n",
      "3 0 i j\n",
      "3 1 i j\n",
      "3 2 i j\n",
      "3 3 i j\n",
      "3 4 i j\n",
      "3 5 i j\n",
      "3 6 i j\n",
      "3 7 i j\n",
      "3 8 i j\n",
      "3 9 i j\n",
      "4 0 i j\n",
      "4 1 i j\n",
      "4 2 i j\n",
      "4 3 i j\n",
      "4 4 i j\n",
      "4 5 i j\n",
      "4 6 i j\n",
      "4 7 i j\n",
      "4 8 i j\n",
      "4 9 i j\n"
     ]
    }
   ],
   "source": [
    "n = 5\n",
    "m = 10\n",
    "\n",
    "for i in range (0,n):\n",
    "    for j in range(0,m):\n",
    "        print(i, j , 'i', 'j')"
   ]
  },
  {
   "cell_type": "markdown",
   "metadata": {
    "id": "ijqJ41kngrbY"
   },
   "source": [
    "##Iterando sobre listas\n",
    "\n",
    "En este caso el iterando seran los elementos de la lista y el ciclo for terminara cuando ya no hay mas elementos en la lista."
   ]
  },
  {
   "cell_type": "code",
   "execution_count": 39,
   "metadata": {
    "id": "-qTJxxVFhXpq"
   },
   "outputs": [
    {
     "name": "stdout",
     "output_type": "stream",
     "text": [
      "n 0\n",
      "n 1\n",
      "n 2\n",
      "n 3\n",
      "n 4\n",
      "n 5\n",
      "n 6\n",
      "n 7\n",
      "n 8\n",
      "n 9\n",
      "n 10\n"
     ]
    }
   ],
   "source": [
    "years = [0, 1, 2, 3, 4, 5, 6, 7, 8, 9, 10]\n",
    "for n in years:\n",
    "  print('n', n)"
   ]
  },
  {
   "cell_type": "code",
   "execution_count": 40,
   "metadata": {
    "id": "gj93cBv3isjm"
   },
   "outputs": [
    {
     "name": "stdout",
     "output_type": "stream",
     "text": [
      "Guayaba <class 'str'>\n",
      "x 1\n",
      "Manzana <class 'str'>\n",
      "x 2\n",
      "Piña <class 'str'>\n",
      "x 3\n",
      "Naranja <class 'str'>\n",
      "x 4\n",
      "Guanabana dulce <class 'str'>\n",
      "x 5\n"
     ]
    }
   ],
   "source": [
    "Frutas = ['Guayaba', 'Manzana', 'Piña', 'Naranja','Guanabana dulce']\n",
    "x=0\n",
    "for f in Frutas:\n",
    "\n",
    "  print(f, type(f))\n",
    "  x+=1\n",
    "  print('x', x)"
   ]
  },
  {
   "cell_type": "markdown",
   "metadata": {
    "id": "iXF6TkuIb5b4"
   },
   "source": [
    "### Break y  Continue\n",
    "Pyhton permite a los desarrolladores detener un ciclo while o for de manera anticipada.\n",
    "\n",
    "\n",
    "##Break\n",
    "\n",
    "El comando break permite al desarrollador alterar el ciclo, basado en alguna condición, que probablemente no se puede predecir desde el principio del ciclo.\n",
    "El comando $break$ termina el ciclo, y el programa continua en la primera linea despues del ciclo. \n",
    "\n",
    "<center>\n",
    "<img src=\"https://github.com/gbdiazc/Images/blob/128288561942927b5377a6431a50a112d302e077/Break.png?raw=1\" width=\"400\">\n",
    "</center>"
   ]
  },
  {
   "cell_type": "code",
   "execution_count": 41,
   "metadata": {
    "id": "rr453G7iqmUI"
   },
   "outputs": [
    {
     "name": "stdout",
     "output_type": "stream",
     "text": [
      "Digite un número a sumar o 0 para salir:5\n",
      "5\n",
      "Digite un número a sumar o 0 para salir:6\n",
      "11\n",
      "Digite un número a sumar o 0 para salir:78\n",
      "89\n",
      "Digite un número a sumar o 0 para salir:0\n"
     ]
    }
   ],
   "source": [
    "s = 0\n",
    "while True: \n",
    "  v = int(input(\"Digite un número a sumar o 0 para salir:\"))\n",
    "  if v == 0:\n",
    "    break \n",
    "  s = s + v \n",
    "  print(s) "
   ]
  },
  {
   "cell_type": "code",
   "execution_count": 42,
   "metadata": {
    "id": "54G0EIeccW02"
   },
   "outputs": [
    {
     "name": "stdout",
     "output_type": "stream",
     "text": [
      "0  \n",
      "hey its an even number\n",
      "we love even numbers\n",
      "Done\n",
      "1  \n"
     ]
    }
   ],
   "source": [
    "for i in range(0, 10):\n",
    "  #print(i, ' ', end='')\n",
    "  print(i, ' ')\n",
    "  if i % 2 == 1:\n",
    "    break\n",
    "  print('hey its an even number')\n",
    "  print('we love even numbers')\n",
    "  print('Done')"
   ]
  },
  {
   "cell_type": "markdown",
   "metadata": {
    "id": "H8bBRgiiXuSm"
   },
   "source": [
    "##Continue\n",
    "El comando continue modifica el comportamiento dentro de los ciclos for y while.\n",
    "SIn embargo este comando no temrina todo el ciclo, solo termina la iteración actual y continua con el ciclo. Esto permite saltarse cierta parte de la iteración para determinados iterandos, pero continua con los restantes iterandos del ciclo.\n",
    "\n",
    "<center>\n",
    "<img src=\"https://github.com/gbdiazc/Images/blob/128288561942927b5377a6431a50a112d302e077/Continue.png?raw=1\" width=\"400\">\n",
    "</center>\n"
   ]
  },
  {
   "cell_type": "code",
   "execution_count": 43,
   "metadata": {
    "id": "p2HtZzanXMay"
   },
   "outputs": [
    {
     "name": "stdout",
     "output_type": "stream",
     "text": [
      "0  \n",
      "hey its an even number\n",
      "we love even numbers\n",
      "Done\n",
      "1  \n",
      "2  \n",
      "hey its an even number\n",
      "we love even numbers\n",
      "Done\n",
      "3  \n",
      "4  \n",
      "hey its an even number\n",
      "we love even numbers\n",
      "Done\n",
      "5  \n",
      "6  \n",
      "hey its an even number\n",
      "we love even numbers\n",
      "Done\n",
      "7  \n",
      "8  \n",
      "hey its an even number\n",
      "we love even numbers\n",
      "Done\n",
      "9  \n"
     ]
    }
   ],
   "source": [
    "for i in range(0, 10):\n",
    "  #print(i, ' ', end='')\n",
    "  print(i, ' ')\n",
    "  if i % 2 == 1:\n",
    "    continue\n",
    "  print('hey its an even number')\n",
    "  print('we love even numbers')\n",
    "  print('Done')"
   ]
  },
  {
   "cell_type": "markdown",
   "metadata": {
    "id": "WjfpvEK2fHSX"
   },
   "source": [
    "\n",
    "\n",
    "## Challenge break \n",
    "### 12\n",
    "Escribir un programa para controlar una pequeña máquina registradora. Usted debe solicitarle al ususario que digite el código del producto y la cantidad comprada y el programa imprimirá la cantidad total a pagar.\n",
    "\n",
    "Utilice la siguiente tabla con los códigos y el precio de cada producto.\n",
    "\n",
    "\n",
    "\\begin{array}{|c|l|} \\hline\n",
    "Código  & Precio      \\\\ \\hline\n",
    "1        & 0.5 \\\\ \\hline\n",
    "2        &  1.0\\\\ \\hline\n",
    "3       & 4.0\\\\ \\hline\n",
    "5       &  7.0\\\\ \\hline\n",
    "9       & 8.0\\\\ \\hline\n",
    "\\end{array}"
   ]
  },
  {
   "cell_type": "code",
   "execution_count": null,
   "metadata": {
    "id": "xbV6IigEfl8-"
   },
   "outputs": [],
   "source": []
  },
  {
   "cell_type": "markdown",
   "metadata": {
    "id": "36PXbA8Ob5b5"
   },
   "source": [
    "## Funciones \n",
    "\n",
    "Las funciones son un conjunto de intrucciones que realizan una actividad específica. Se pueden crear funciones si se requiere realizar una operacion constantemente.\n",
    "\n",
    "Las funciones se pueden definir en un lugar y pueden ser llamadas en otro lugar.\n",
    "\n",
    "## ¿Cómo trabajan las funciones?\n",
    "\n",
    "Cuando se llama una función, el programa va de donde se llama la función al punto en donde la función esta definida.\n",
    "El cuerpo de la función se ejecuta antes de que el programa regrese al lugar en donde fue llamada.\n",
    "\n",
    "<center>\n",
    "<img src=\"https://github.com/gbdiazc/Images/blob/6998851d3c940565da46ba3aaa1e004a5b05f667/Functions.jpeg?raw=1\" width=\"300\"> \n",
    "</center>\n",
    "\n",
    "\n",
    "\n",
    "## Tipos de funciones\n",
    "\n",
    "Existen 2 tipos de funciones, funciones que pertenecen al lenguaje Python, como print(), input() y funciones definidas por el programador.\n",
    "\n",
    "\n",
    "\n",
    "\n",
    "## Definición de funciones \n",
    "\n",
    "Las funciones pueden tener o no elementos de entrada (inputs) y de salida (outputs). La sintaxis es la siguiente:\n",
    "\\begin{array}{ll} \n",
    "def   & función(input):     \\\\\n",
    "      & \\text{operaciones} \\\\ \n",
    "      & return(output)     \\\\ \n",
    "\\end{array}\n",
    "La *indentación* es muy importante en Python, al crear funciones, estas tienen que estar bien indentadas. \n",
    "\n",
    "1. Las funciones se definen usando la palabra def \n",
    "2. Una función puede tener un nombre que la define de manera única\n",
    "3. Usualmente se definen usando sólo letras mínusculas\n",
    "4. Una función puede tener párametros de entrada. No todas las funciones necesitan tener parámetros de entrada.\n",
    "5. Se utlizan 2 puntos para ':' para indicar el fin del encabezado de la función y el inicio del cuerpo de la función.\n",
    "6. Se puede incluir texto que describa lo que la función realiza.\n",
    "7. Las instrucciones que integran el cuerpo de la función estan indentadas con respecto a la definición d ela función.\n"
   ]
  },
  {
   "cell_type": "code",
   "execution_count": 44,
   "metadata": {
    "id": "s1dM_1_iVPGn"
   },
   "outputs": [],
   "source": [
    "# Definición de la función\n",
    "def print_msg():\n",
    "    print('Hello World!')"
   ]
  },
  {
   "cell_type": "code",
   "execution_count": 45,
   "metadata": {
    "id": "8TTMTmceVPGo"
   },
   "outputs": [
    {
     "name": "stdout",
     "output_type": "stream",
     "text": [
      "Hello World!\n"
     ]
    }
   ],
   "source": [
    "# Uso de la función\n",
    "print_msg()"
   ]
  },
  {
   "cell_type": "code",
   "execution_count": 46,
   "metadata": {
    "id": "_8lq4uNIVPGo"
   },
   "outputs": [],
   "source": [
    "# Definición de la función\n",
    "def print_my_msg(msg):\n",
    "    print(msg)"
   ]
  },
  {
   "cell_type": "code",
   "execution_count": 47,
   "metadata": {
    "id": "09rTBPESVPGo"
   },
   "outputs": [
    {
     "name": "stdout",
     "output_type": "stream",
     "text": [
      "Hola\n"
     ]
    }
   ],
   "source": [
    "# Uso de la función\n",
    "print_my_msg('Hola')"
   ]
  },
  {
   "cell_type": "markdown",
   "metadata": {
    "id": "0wmvjoN6b5b5"
   },
   "source": [
    "## Crear una función que sume los primeros n números enteros\n",
    "\n"
   ]
  },
  {
   "cell_type": "code",
   "execution_count": 48,
   "metadata": {
    "id": "9d7wCsuvb5b5"
   },
   "outputs": [],
   "source": [
    "def Gauss (n):\n",
    "    sumGauss = 0\n",
    "    for i in range(0, n+1):\n",
    "        sumGauss = sumGauss + i\n",
    "    \n",
    "    return sumGauss"
   ]
  },
  {
   "cell_type": "code",
   "execution_count": 49,
   "metadata": {
    "id": "txw0DzmGb5b5"
   },
   "outputs": [
    {
     "name": "stdout",
     "output_type": "stream",
     "text": [
      "6 result\n"
     ]
    }
   ],
   "source": [
    "result = Gauss(3)\n",
    "print(result, 'result')"
   ]
  },
  {
   "cell_type": "markdown",
   "metadata": {
    "id": "zyl7dts8cX_m"
   },
   "source": [
    "## Challenge break \n",
    "### 13\n",
    " Escribe una función que de como salida el mayor de 2 números de entrada\n",
    "\n"
   ]
  },
  {
   "cell_type": "code",
   "execution_count": null,
   "metadata": {
    "id": "BqtKaoUqeS1I"
   },
   "outputs": [],
   "source": []
  },
  {
   "cell_type": "markdown",
   "metadata": {
    "id": "Gh-t9eAxc476"
   },
   "source": [
    "### 14\n",
    "Escriba una función que tenga como argumento el lado de un cuadrado y regrese su área."
   ]
  },
  {
   "cell_type": "code",
   "execution_count": null,
   "metadata": {
    "id": "UuwU000eeTVo"
   },
   "outputs": [],
   "source": []
  },
  {
   "cell_type": "markdown",
   "metadata": {
    "id": "VabxQaOdb5b5"
   },
   "source": [
    "## Crear una función que calcule el factorial del número entero n\n",
    "\n"
   ]
  },
  {
   "cell_type": "code",
   "execution_count": 50,
   "metadata": {
    "id": "9A0Zfm-Kb5b5"
   },
   "outputs": [],
   "source": [
    "def factorial (n):\n",
    "    fac = 1\n",
    "    for i in range(1,n+1):\n",
    "        fac = fac*i\n",
    "    \n",
    "    return fac"
   ]
  },
  {
   "cell_type": "code",
   "execution_count": 51,
   "metadata": {
    "id": "hgNv9GOeb5b5"
   },
   "outputs": [
    {
     "name": "stdout",
     "output_type": "stream",
     "text": [
      "result:  1\n"
     ]
    }
   ],
   "source": [
    "result = factorial(0)\n",
    "print('result: ', result)"
   ]
  },
  {
   "cell_type": "markdown",
   "metadata": {
    "id": "XYhpbHYsb5b6"
   },
   "source": [
    "## Crear una función que obtenga la suma y la multiplicación de 2 números"
   ]
  },
  {
   "cell_type": "code",
   "execution_count": 52,
   "metadata": {
    "id": "rEJhpn0xb5b6"
   },
   "outputs": [],
   "source": [
    "def sumandmult(a, b):\n",
    "    sumc = a+b\n",
    "    multc =  a*b\n",
    "    return sumc, multc"
   ]
  },
  {
   "cell_type": "code",
   "execution_count": 53,
   "metadata": {
    "id": "pji6Jdmdb5b6"
   },
   "outputs": [],
   "source": [
    "sumc, multc = sumandmult (5,4)"
   ]
  },
  {
   "cell_type": "code",
   "execution_count": 54,
   "metadata": {
    "id": "_K2JBnzDb5b6"
   },
   "outputs": [
    {
     "name": "stdout",
     "output_type": "stream",
     "text": [
      "Esta es la suma de a y b:  9\n",
      "Esta es la múltiplicaicón de a y c:  20\n"
     ]
    }
   ],
   "source": [
    "print('Esta es la suma de a y b: ',sumc)\n",
    "print('Esta es la múltiplicaicón de a y c: ',multc)"
   ]
  },
  {
   "cell_type": "code",
   "execution_count": 55,
   "metadata": {
    "id": "43TCwpojb5b6"
   },
   "outputs": [],
   "source": [
    "result = sumandmult (5,4)"
   ]
  },
  {
   "cell_type": "code",
   "execution_count": 56,
   "metadata": {
    "id": "7ZhxiRqVVPGs"
   },
   "outputs": [
    {
     "data": {
      "text/plain": [
       "(9, 20)"
      ]
     },
     "execution_count": 56,
     "metadata": {},
     "output_type": "execute_result"
    }
   ],
   "source": [
    "result"
   ]
  },
  {
   "cell_type": "markdown",
   "metadata": {
    "id": "3v9cz11vVPGs"
   },
   "source": [
    "## Challenge break\n",
    "### 15\n",
    "Escribe una función *my_max(x)* que de como salida el valor máximo (más grande) de una lista *x*. No use la función de Python *max*.\n",
    "\n",
    "Encuentra el máximo de la siguiente lista \n",
    "\n",
    "x = [10, 56, 258, 16, 24, 18, 265, 893, 52, 39, 82]"
   ]
  },
  {
   "cell_type": "code",
   "execution_count": null,
   "metadata": {
    "id": "SU96rLJfVPGs"
   },
   "outputs": [],
   "source": []
  },
  {
   "cell_type": "markdown",
   "metadata": {
    "id": "GTWDNxWRVPGt"
   },
   "source": [
    "### 16\n",
    "Escribe una función que realice la multiplicación de un vector por un escalar entrada a entrada, es decir\n",
    "\n",
    "$$\\vec{y} = a*\\vec{x} = \\sum_i a*x_i$$\n",
    "\n",
    "Realiza la multiplicación del escalar a = 10, por el vector \n",
    "\n",
    "x = [10, 56, 258, 16, 24, 18, 265, 893, 52, 39, 82]"
   ]
  },
  {
   "cell_type": "code",
   "execution_count": null,
   "metadata": {
    "id": "zMYYpFqVVPGt"
   },
   "outputs": [],
   "source": []
  },
  {
   "cell_type": "markdown",
   "metadata": {
    "id": "67jnxN9JVPGt"
   },
   "source": [
    "### 17\n",
    "Escribe una función que realice el producto punto de dos vectores, recuerda que el producto punto se realiza multiplicando entrada a entrada los vectores y sumando el resultado de las multiplicaciones, \n",
    "\n",
    "$$\\vec{u}\\cdot \\vec{v} =  \\sum_i u_iv_i$$\n",
    "\n",
    "Con la función creada obten el producto punto de los siguientes vectores:\n",
    "\n",
    "> x = [1,1,1], y = [1,1,1]\n",
    "\n",
    "> x = [1,0,0,0,0], y = [0,1,0,0,0]"
   ]
  },
  {
   "cell_type": "code",
   "execution_count": null,
   "metadata": {
    "id": "ISR6_lLHVPGt"
   },
   "outputs": [],
   "source": []
  },
  {
   "cell_type": "markdown",
   "metadata": {
    "id": "7IgapPeSVPGu"
   },
   "source": [
    "## Parámetros de las funciones "
   ]
  },
  {
   "cell_type": "markdown",
   "metadata": {
    "id": "4oeHjH9LVPGv"
   },
   "source": [
    "Un **parámetro** es una variable que es parte del encabezado de la función y se usa para hacer el dato disponible dentro del cuerpo de la función.\n",
    "\n",
    "Un **argumento** es el valor que pasa a la función, cuando esta es llamada."
   ]
  },
  {
   "cell_type": "code",
   "execution_count": 57,
   "metadata": {
    "id": "0hz_Cg88VPGv"
   },
   "outputs": [],
   "source": [
    "def greeter(name, message):\n",
    "    print('Welcome', name, '-', message)"
   ]
  },
  {
   "cell_type": "code",
   "execution_count": 58,
   "metadata": {
    "id": "WU6TGyJyVPGv"
   },
   "outputs": [
    {
     "name": "stdout",
     "output_type": "stream",
     "text": [
      "Welcome Eloise - Hope you like Rugby\n"
     ]
    }
   ],
   "source": [
    "greeter('Eloise', 'Hope you like Rugby')"
   ]
  },
  {
   "cell_type": "code",
   "execution_count": 59,
   "metadata": {
    "id": "EyF9NNnZVPGv"
   },
   "outputs": [],
   "source": [
    "def greeter(name, message = 'Live Long and Prosper'):\n",
    "    print('Welcome', name, '-', message)"
   ]
  },
  {
   "cell_type": "code",
   "execution_count": 60,
   "metadata": {
    "id": "TvnKDs1AVPGv"
   },
   "outputs": [
    {
     "name": "stdout",
     "output_type": "stream",
     "text": [
      "Welcome Eloise - Live Long and Prosper\n",
      "Welcome Eloise - Hope you like Python\n"
     ]
    }
   ],
   "source": [
    "greeter('Eloise')\n",
    "greeter('Eloise', 'Hope you like Python')"
   ]
  },
  {
   "cell_type": "markdown",
   "metadata": {
    "id": "j6PK8oebVPGv"
   },
   "source": [
    "**Nota** Todos los parámetros pueden tener un valor por default, sin embargo una vez que un parámetro tiene un valor default, los demás parámetros a la derecha, tienen que tener valores por default."
   ]
  },
  {
   "cell_type": "markdown",
   "metadata": {
    "id": "u8--8rnkVPGv"
   },
   "source": [
    "La posición de un valor dentro de los argumentos de la función, determina a que parámetro este valor es asignado. Sin embargo, si una función tiene demasiados parámetros, será más dificil usar solo la posición para saber que un valor se le esta asignando al parámetro deseado"
   ]
  },
  {
   "cell_type": "code",
   "execution_count": 61,
   "metadata": {
    "id": "ZKT9nwsYVPGv"
   },
   "outputs": [],
   "source": [
    "def greeter(name,\n",
    "    title = 'Dr',\n",
    "    prompt = 'Welcome',\n",
    "    message = 'Live Long and Prosper'):\n",
    "    print(prompt, title, name, '-', message)"
   ]
  },
  {
   "cell_type": "code",
   "execution_count": 62,
   "metadata": {
    "id": "-4SdsflJVPGw"
   },
   "outputs": [
    {
     "name": "stdout",
     "output_type": "stream",
     "text": [
      "Welcome Dr Lloyd - We like Python\n"
     ]
    }
   ],
   "source": [
    "greeter(message = 'We like Python', name = 'Lloyd')"
   ]
  },
  {
   "cell_type": "code",
   "execution_count": 63,
   "metadata": {
    "id": "NqfGHkGXVPGw"
   },
   "outputs": [
    {
     "name": "stdout",
     "output_type": "stream",
     "text": [
      "Welcome Dr Lloyd - We like Python\n"
     ]
    }
   ],
   "source": [
    "greeter('Lloyd', message = 'We like Python')"
   ]
  },
  {
   "cell_type": "code",
   "execution_count": 64,
   "metadata": {
    "id": "zYandtIwVPGw"
   },
   "outputs": [
    {
     "name": "stdout",
     "output_type": "stream",
     "text": [
      "Hola Dr Panchito - ¿Cómo estás?\n"
     ]
    }
   ],
   "source": [
    "greeter('Panchito', 'Dr','Hola', '¿Cómo estás?')"
   ]
  },
  {
   "cell_type": "markdown",
   "metadata": {
    "id": "3pOUA2_7VPGw"
   },
   "source": [
    "## Argumentos indeterminados\n",
    "\n",
    "En ciertos casos no se sabe cuantos argumentos usará una función cuando se llame. Python permite pasar un número indeterminado de argumentos en la función y operar con ellos dentro del cuerpo de la función."
   ]
  },
  {
   "cell_type": "code",
   "execution_count": 65,
   "metadata": {
    "id": "DCr2d6TcVPGy"
   },
   "outputs": [],
   "source": [
    "def my_sum(x,y):\n",
    "    return x+y"
   ]
  },
  {
   "cell_type": "code",
   "execution_count": 66,
   "metadata": {
    "id": "kNeOlRJ5VPGy"
   },
   "outputs": [
    {
     "data": {
      "text/plain": [
       "11"
      ]
     },
     "execution_count": 66,
     "metadata": {},
     "output_type": "execute_result"
    }
   ],
   "source": [
    "my_sum(6,5)"
   ]
  },
  {
   "cell_type": "code",
   "execution_count": 67,
   "metadata": {
    "id": "EoJCpmUWVPGy"
   },
   "outputs": [
    {
     "ename": "TypeError",
     "evalue": "my_sum() takes 2 positional arguments but 3 were given",
     "output_type": "error",
     "traceback": [
      "\u001b[0;31m---------------------------------------------------------------------------\u001b[0m",
      "\u001b[0;31mTypeError\u001b[0m                                 Traceback (most recent call last)",
      "\u001b[0;32m/tmp/ipykernel_27659/4278958293.py\u001b[0m in \u001b[0;36m<module>\u001b[0;34m\u001b[0m\n\u001b[0;32m----> 1\u001b[0;31m \u001b[0mmy_sum\u001b[0m\u001b[0;34m(\u001b[0m\u001b[0;36m6\u001b[0m\u001b[0;34m,\u001b[0m\u001b[0;36m5\u001b[0m\u001b[0;34m,\u001b[0m\u001b[0;36m3\u001b[0m\u001b[0;34m)\u001b[0m\u001b[0;34m\u001b[0m\u001b[0;34m\u001b[0m\u001b[0m\n\u001b[0m",
      "\u001b[0;31mTypeError\u001b[0m: my_sum() takes 2 positional arguments but 3 were given"
     ]
    }
   ],
   "source": [
    "my_sum(6,5,3)"
   ]
  },
  {
   "cell_type": "code",
   "execution_count": null,
   "metadata": {
    "id": "iiGhhiVmVPGy"
   },
   "outputs": [],
   "source": [
    "def my_sum_args(*args):\n",
    "    value = 0\n",
    "    for n in args:\n",
    "        value += n\n",
    "    return value"
   ]
  },
  {
   "cell_type": "code",
   "execution_count": null,
   "metadata": {
    "id": "LVGqUbFVVPGy"
   },
   "outputs": [],
   "source": [
    "my_sum_args()"
   ]
  },
  {
   "cell_type": "code",
   "execution_count": null,
   "metadata": {
    "id": "Lf4BCEfHVPGz"
   },
   "outputs": [],
   "source": [
    "my_sum_args(6,9)"
   ]
  },
  {
   "cell_type": "code",
   "execution_count": null,
   "metadata": {
    "id": "zZACnRNYVPGz"
   },
   "outputs": [],
   "source": [
    "my_sum_args(6,9,5)"
   ]
  },
  {
   "cell_type": "markdown",
   "metadata": {
    "id": "2g9CH-5rVPGz"
   },
   "source": [
    "## Agumentos keywords"
   ]
  },
  {
   "cell_type": "code",
   "execution_count": null,
   "metadata": {
    "id": "ThWt0orUVPGz"
   },
   "outputs": [],
   "source": [
    "def my_function_kargs(**kwargs):\n",
    "    for key in kwargs.keys():\n",
    "        print('key:', key, 'has value: ', kwargs[key])"
   ]
  },
  {
   "cell_type": "code",
   "execution_count": null,
   "metadata": {
    "id": "b9dPQj-GVPG0"
   },
   "outputs": [],
   "source": [
    "my_function_kargs(daughter='Phoebe', son='Adam')"
   ]
  },
  {
   "cell_type": "code",
   "execution_count": null,
   "metadata": {
    "id": "gB18ViALVPG0"
   },
   "outputs": [],
   "source": [
    "def my_function_kargs2(c, **kwargs):\n",
    "    for key in kwargs.keys():\n",
    "        print('key:', key, 'has value: ', kwargs[key]+c)"
   ]
  },
  {
   "cell_type": "code",
   "execution_count": null,
   "metadata": {
    "id": "-NwVMqd1VPG0"
   },
   "outputs": [],
   "source": [
    "my_function_kargs2(10, daughter=5, son=3)"
   ]
  },
  {
   "cell_type": "markdown",
   "metadata": {
    "id": "TH6Czga_VPG0"
   },
   "source": [
    "## Challenge break\n",
    "### 18\n",
    "Crea una función con un número de argumentos indeterminados, en donde ingreses los nombres de las personas que quieras saludar y que imprima el saludo, e.g. \n",
    "\n",
    "Hola Gaby!\n",
    "\n",
    "Hola Luis!\n"
   ]
  },
  {
   "cell_type": "code",
   "execution_count": null,
   "metadata": {
    "id": "HO0flY2-VPG0"
   },
   "outputs": [],
   "source": []
  },
  {
   "cell_type": "markdown",
   "metadata": {
    "id": "VD0J69Y0VPG0"
   },
   "source": [
    "### 19\n",
    "Crea una función con argumentos indeterminados con valor determinado (keyword) y que imprima el nombre de la variable y el valor (key : kyword) usa esta funcion usando como entradas el nombre, la edad y el correo de una persona, de salida tienes que obtener\n",
    "\n",
    "nombre :  Gaby\n",
    "\n",
    "edad :  36\n",
    "\n",
    "correo :  gbdiaz@imp.mx\n"
   ]
  },
  {
   "cell_type": "code",
   "execution_count": null,
   "metadata": {
    "id": "6q5bD9LmVPG1"
   },
   "outputs": [],
   "source": []
  },
  {
   "cell_type": "code",
   "execution_count": null,
   "metadata": {
    "id": "sXuMAh0OVfSy"
   },
   "outputs": [],
   "source": []
  },
  {
   "cell_type": "markdown",
   "metadata": {
    "id": "RAG3To1zVPG1"
   },
   "source": [
    "## Funciones anónimas\n",
    "\n",
    "Sí necesitamos usar una función que solo se usará una vez, no es necesario asiganerle un nombre en específico. Es posible definir una función anónima, y que se usa en el momento en que es definida. Las funciones anónimas se definen con la keyword lambda y por eso a este tipo de funciones se les conoce como funciones lambda.\n",
    "\n",
    "**lambda** arguments : expression"
   ]
  },
  {
   "cell_type": "code",
   "execution_count": null,
   "metadata": {
    "id": "MDGMM107VPG1"
   },
   "outputs": [],
   "source": [
    "square = lambda i : i*i"
   ]
  },
  {
   "cell_type": "code",
   "execution_count": null,
   "metadata": {
    "id": "FOwiKyM6VPG1"
   },
   "outputs": [],
   "source": [
    "square(5)"
   ]
  },
  {
   "cell_type": "markdown",
   "metadata": {
    "id": "T4AriOpjVPG1"
   },
   "source": [
    "## Variables locales y variables globales\n",
    "\n",
    "Las **variables globales** son accesiles desde cualquier parte del programa.\n",
    "\n",
    "Las **variables locales** se definen dentro del cuerpo de las funciones y no son accesibles o visibles afuera de la función. Las **variables locales** son de gran ayuda pare desarrollar un código modular, que se ha probado que es más fácil de mantener desarrollar y probar.\n",
    "\n",
    "\n",
    "Usualmente los desarrolladores tatan de minimizar el número de variables globales en sus programas dado que se puede acceder y modificar desde cualquier parte del cuerpo del programa y esto puede resultar en comprtamientos inesperados del programa"
   ]
  },
  {
   "cell_type": "markdown",
   "metadata": {
    "id": "k6DXEx6dVPG1"
   },
   "source": [
    "## Variables locales"
   ]
  },
  {
   "cell_type": "code",
   "execution_count": null,
   "metadata": {
    "id": "B2sJhZ8MVPG1"
   },
   "outputs": [],
   "source": [
    "def my_function():\n",
    "    a_variable = 100\n",
    "    print(a_variable)"
   ]
  },
  {
   "cell_type": "code",
   "execution_count": null,
   "metadata": {
    "id": "teLgj5FKVPG1"
   },
   "outputs": [],
   "source": [
    "my_function()"
   ]
  },
  {
   "cell_type": "code",
   "execution_count": null,
   "metadata": {
    "id": "FnzpxrnzVPG1"
   },
   "outputs": [],
   "source": [
    "my_function()\n",
    "print(a_variable)"
   ]
  },
  {
   "cell_type": "code",
   "execution_count": null,
   "metadata": {
    "id": "6S9bWlXuVPG2"
   },
   "outputs": [],
   "source": [
    "a_variable = 25\n",
    "my_function()\n",
    "print(a_variable)"
   ]
  },
  {
   "cell_type": "markdown",
   "metadata": {
    "id": "vEo7kw19VPG3"
   },
   "source": [
    "## Variables Globales"
   ]
  },
  {
   "cell_type": "code",
   "execution_count": null,
   "metadata": {
    "id": "XzvSOx4_VPG3"
   },
   "outputs": [],
   "source": [
    "max = 100\n",
    "def print_max():\n",
    "    print(max)\n",
    "print_max()"
   ]
  },
  {
   "cell_type": "code",
   "execution_count": null,
   "metadata": {
    "id": "K_CucvWVVPG4"
   },
   "outputs": [],
   "source": [
    "def print_max():\n",
    "    max = max + 1\n",
    "    print(max)\n",
    "print_max()"
   ]
  },
  {
   "cell_type": "code",
   "execution_count": null,
   "metadata": {
    "id": "MtN1AP_iVPG4"
   },
   "outputs": [],
   "source": [
    "def print_max():\n",
    "    global max\n",
    "    max = max + 1\n",
    "    print(max)"
   ]
  },
  {
   "cell_type": "code",
   "execution_count": null,
   "metadata": {
    "id": "d8R58HCxVPG4"
   },
   "outputs": [],
   "source": [
    "print_max()\n",
    "print(max)"
   ]
  },
  {
   "cell_type": "markdown",
   "metadata": {
    "id": "NjQxshbtVPG5"
   },
   "source": [
    "## Ejercicios extra\n",
    "\n",
    "### 1\n",
    "Crea una función que calcule la representación binaria de un entero n\n"
   ]
  },
  {
   "cell_type": "code",
   "execution_count": null,
   "metadata": {
    "id": "hhOGuK3PCIVi"
   },
   "outputs": [],
   "source": []
  },
  {
   "cell_type": "markdown",
   "metadata": {
    "id": "SPfbLCzaCHus"
   },
   "source": [
    "### 2\n",
    "**Calculadora**:  Construye una función que lea una operacion y dos variables y que imprima los valores de entrada, la operación, el resultado y de como salida la operación seleccionada, e.g.\n",
    "\n",
    "```python\n",
    "calculadora()\n",
    "```\n",
    "\n",
    "```\n",
    "Da el primer numero:\n",
    "2\n",
    "Da el segundo:\n",
    "2\n",
    "Da la operación:\n",
    "*\n",
    "2*2= 4.0\n",
    "```"
   ]
  },
  {
   "cell_type": "code",
   "execution_count": null,
   "metadata": {
    "id": "r1rurYPjCMQg"
   },
   "outputs": [],
   "source": []
  },
  {
   "cell_type": "markdown",
   "metadata": {
    "id": "cs5S3vt6B-ap"
   },
   "source": [
    "### 3 \n",
    "Escribe una función que realice el producto de una matriz por un vector\n",
    "\n",
    "$$\\vec{b}=\\mathbf{A} \\vec{x}=  \\begin{bmatrix}\n",
    "a_{1,1} \\quad a_{1,2}\\quad\\cdots\\quad a_{1,n}\\\\\n",
    "\\vdots\\\\\n",
    "a_{n,1} \\quad a_{n,2}\\quad\\cdots \\quad a_{n,n}\\\\ \n",
    "\\end{bmatrix}\\begin{bmatrix}\n",
    "x_{1}\\\\\n",
    "\\vdots\\\\\n",
    "x_{n}\\\\ \n",
    "\\end{bmatrix}\n",
    "= \\begin{bmatrix}\n",
    "a_{1,1}x_{1}+a_{1,2}x_{2},\\cdots +a_{1,n}x_{n}\\\\\n",
    "\\vdots\\\\\n",
    "a_{n,1}x_{1}+a_{n,2}x_{2},\\cdots +a_{n,n}x_{n}\\\\ \n",
    "\\end{bmatrix}$$\n"
   ]
  },
  {
   "cell_type": "code",
   "execution_count": null,
   "metadata": {
    "id": "HerKw9MjVPG5"
   },
   "outputs": [],
   "source": []
  }
 ],
 "metadata": {
  "colab": {
   "provenance": []
  },
  "kernelspec": {
   "display_name": "Python 3 (ipykernel)",
   "language": "python",
   "name": "python3"
  },
  "language_info": {
   "codemirror_mode": {
    "name": "ipython",
    "version": 3
   },
   "file_extension": ".py",
   "mimetype": "text/x-python",
   "name": "python",
   "nbconvert_exporter": "python",
   "pygments_lexer": "ipython3",
   "version": "3.8.8"
  }
 },
 "nbformat": 4,
 "nbformat_minor": 1
}
