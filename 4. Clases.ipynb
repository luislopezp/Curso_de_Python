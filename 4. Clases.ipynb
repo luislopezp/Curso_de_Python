{
 "cells": [
  {
   "cell_type": "markdown",
   "id": "c559b742",
   "metadata": {
    "id": "2c804abf"
   },
   "source": [
    "## Introducción a programación orientada a objetos\n",
    "\n",
    "# Clases\n",
    "\n",
    "Las clases son un concepto fundamental en programación con python. En este curso ya se han usado las clases, previamente. \n"
   ]
  },
  {
   "cell_type": "code",
   "execution_count": 1,
   "id": "a6001e67",
   "metadata": {
    "id": "Rn9vaQ2tiHdo"
   },
   "outputs": [],
   "source": [
    "a=int(4)\n",
    "b= 5.5\n",
    "c= [7,4,5,2,1]\n",
    "d= 'Ewan'\n",
    "e= True\n",
    "\n",
    "print(type(a))\n",
    "print(type(b))\n",
    "print(type(c))\n",
    "print(type(d))\n",
    "print(type(e))"
   ]
  },
  {
   "cell_type": "markdown",
   "id": "8bc4ca1a",
   "metadata": {
    "id": "HdH-cchmjRlo"
   },
   "source": [
    "Cada que se crea un entero, se crea un **objeto** (o instancia) de la clase *int*. La clase define como los objetos se comportan y que **métodos (o funciones)** operan sobre ellos. Se han utilizado distintos métodos asociados a clases, como por ejemplo el método *append* asociado a listas y *split* para caracteres.\n",
    "\n"
   ]
  },
  {
   "cell_type": "code",
   "execution_count": 2,
   "id": "9d90060f",
   "metadata": {
    "id": "3OZcUs8NfVIM"
   },
   "outputs": [],
   "source": [
    "c.append(8)\n",
    "print(c)"
   ]
  },
  {
   "cell_type": "code",
   "execution_count": 3,
   "id": "d6a6d57c",
   "metadata": {
    "id": "OMUAFPJwgdwp"
   },
   "outputs": [],
   "source": [
    "a.append(5)"
   ]
  },
  {
   "cell_type": "code",
   "execution_count": null,
   "id": "ca3e1c36",
   "metadata": {
    "id": "ilX4-dkZgHP-"
   },
   "outputs": [],
   "source": [
    "d.split('w')"
   ]
  },
  {
   "cell_type": "markdown",
   "id": "abb99b1c",
   "metadata": {
    "id": "OsK6ECdbgly5"
   },
   "source": [
    "Sin embargo, no solo se pueden usar las **clases** y **objetos** definidas dentro del lenguaje de programación python, el usuario puede crear y definir sus propias clases , para crear estructuras de datos,  tipo de datos y aplicaciones propias."
   ]
  },
  {
   "cell_type": "markdown",
   "id": "cb746d65",
   "metadata": {
    "id": "4NEGbkV-hV08"
   },
   "source": [
    "## **Características de las clases**\n",
    "\n",
    "Una clase se comporta como una plantilla que se usa para contruir objetos o instancias.\n",
    "\n",
    "Un **atributo** (o una variable de instancia) es un dato asociado a un objeto.\n",
    "\n",
    "Todas las **objetos** (o instancias) poseen los mismos **atributos** pero contiene su propio valor.\n",
    "\n",
    "Por ejemplo los empleados de una compañía pueden ser representados por una clase que se llame Empleados en donde cada empleado tiene un número de empleado, un nombre, un departamento.\n",
    "\n",
    "\n",
    "Un **método** (o función) es es procedimiento definido dentro de un clase.\n",
    "\n"
   ]
  },
  {
   "cell_type": "markdown",
   "id": "65185c09",
   "metadata": {
    "id": "f7e1e320"
   },
   "source": [
    "\n",
    "\n",
    "## Definición de clases en python"
   ]
  },
  {
   "cell_type": "code",
   "execution_count": null,
   "id": "b4ca9b8f",
   "metadata": {
    "id": "770289a9"
   },
   "outputs": [],
   "source": [
    "class Person:\n",
    "    def __init__(self, name, age):\n",
    "        self.name = name\n",
    "        self.age = age"
   ]
  },
  {
   "cell_type": "markdown",
   "id": "a269a7f2",
   "metadata": {
    "id": "626a6b97"
   },
   "source": [
    "La clase Person posee 2 atributos o variables de instancia, llamados name and age. También hay un método llamado ___init___, que es el constructor para la clase, e indica que datos se le deben de suministrar a un objeto de la clase Person cuando es creado.\n",
    "\n",
    "Los valores sumninistrados se guardaran en una instancia de la clase, representada por la variable especial, *self* y en variables de instancia los atributos self.name y self.age.\n",
    "\n",
    "La variable especial *self* es el primer parámetro que se le pasa al método. Sin embargo, cuando se llama al método, no pasamos ningún valor para este parámetro, pero Python lo hace. Se usa para representar al objeto dentro del cual el método se ejecuta. Entonces self, es el objeto.\n"
   ]
  },
  {
   "cell_type": "code",
   "execution_count": null,
   "id": "fe094a49",
   "metadata": {
    "id": "383bee8e"
   },
   "outputs": [],
   "source": [
    "p1 = Person('Juan', 36)\n",
    "p2 = Person('Sofi', 21)"
   ]
  },
  {
   "cell_type": "markdown",
   "id": "6ddce5e2",
   "metadata": {
    "id": "0980cf30"
   },
   "source": [
    "La variable p1 contiene la referencia de un objeto de la clase Person, cuyos atributos son 'Juan' (para el atributo 'name') y 36 para el atributo 'age'."
   ]
  },
  {
   "cell_type": "code",
   "execution_count": null,
   "id": "76a8a7ae",
   "metadata": {
    "id": "063c3bbc"
   },
   "outputs": [],
   "source": [
    "type(p1)"
   ]
  },
  {
   "cell_type": "markdown",
   "id": "fd954a05",
   "metadata": {
    "id": "07759140"
   },
   "source": [
    "## Acceder a los atributos de los objetos"
   ]
  },
  {
   "cell_type": "code",
   "execution_count": null,
   "id": "49ac9c76",
   "metadata": {
    "id": "_UXmKVygQXF2"
   },
   "outputs": [],
   "source": [
    "print(p1.name)\n",
    "print(p1.age)"
   ]
  },
  {
   "cell_type": "code",
   "execution_count": null,
   "id": "e25c26c6",
   "metadata": {
    "id": "739569bf"
   },
   "outputs": [],
   "source": [
    "print(p1.name, 'is', p1.age)\n",
    "print(p2.name, 'is', p2.age)"
   ]
  },
  {
   "cell_type": "markdown",
   "id": "165974a2",
   "metadata": {
    "id": "GvuB8YnCqIeE"
   },
   "source": [
    "## Reasignación de valores a los atributos de la clase"
   ]
  },
  {
   "cell_type": "code",
   "execution_count": null,
   "id": "387cfa37",
   "metadata": {
    "id": "c2956e06"
   },
   "outputs": [],
   "source": [
    "p1.name = 'Bob'\n",
    "p1.age = 54"
   ]
  },
  {
   "cell_type": "code",
   "execution_count": null,
   "id": "edf72dd0",
   "metadata": {
    "id": "8988307d"
   },
   "outputs": [],
   "source": [
    "print(p1.name, 'is', p1.age)\n",
    "print(p2.name, 'is', p2.age)"
   ]
  },
  {
   "cell_type": "markdown",
   "id": "b369030f",
   "metadata": {
    "id": "hVHl5O3WYZB1"
   },
   "source": [
    "### Challenge break\n",
    "##1\n",
    "\n",
    "Crear una clase que se llame BankAccount, que incluya los siguientes atributos: nombre, apellido, número_de_cuenta, y saldo. Crea 2 objetos de la clase bank Account, que se llamen cliente1 y cliente 2, utilizando los siguientes valores para el cliente 1 nombre = Pedro, apellido=Díaz, cuenta=90673456 y saldo =10000. Mientras que para el cliente 2, se utliza nombre= Andrea, apellido= Martínez, cuenta =67892345 y saldo=5000. \n",
    "Imprime el nombre y el saldo del cliente 1 y del cliente2.\n",
    "\n",
    "\n"
   ]
  },
  {
   "cell_type": "code",
   "execution_count": null,
   "id": "799853b6",
   "metadata": {
    "id": "oEuL0L0wRnnM"
   },
   "outputs": [],
   "source": []
  },
  {
   "cell_type": "markdown",
   "id": "99c2fce4",
   "metadata": {
    "id": "b37ef3f9"
   },
   "source": [
    "## Definición de métodos de objetos"
   ]
  },
  {
   "cell_type": "code",
   "execution_count": null,
   "id": "8ac3b423",
   "metadata": {
    "id": "72a80fba"
   },
   "outputs": [],
   "source": [
    "class Person:\n",
    "    \"\"\" An example class to hold a persons name and age\"\"\"\n",
    "    def __init__(self, name, age):\n",
    "        self.name = name\n",
    "        self.age = age\n",
    "    def birthday(self):\n",
    "        print('Happy birthday you were', self.age)\n",
    "        self.age += 1\n",
    "        print('You are now', self.age)\n",
    "    def is_teenager(self):\n",
    "        return self.age < 20"
   ]
  },
  {
   "cell_type": "code",
   "execution_count": null,
   "id": "dd20648d",
   "metadata": {
    "id": "cfcbba75"
   },
   "outputs": [],
   "source": [
    "p3 = Person('Adam', 19)\n",
    "print(p3)\n"
   ]
  },
  {
   "cell_type": "code",
   "execution_count": null,
   "id": "510e766c",
   "metadata": {
    "id": "183ce565"
   },
   "outputs": [],
   "source": [
    "p3.birthday()\n",
    "\n"
   ]
  },
  {
   "cell_type": "code",
   "execution_count": null,
   "id": "cb2bc67a",
   "metadata": {
    "id": "GHf6cHVhfviu"
   },
   "outputs": [],
   "source": [
    "p3.is_teenager()"
   ]
  },
  {
   "cell_type": "markdown",
   "id": "c33ef007",
   "metadata": {
    "id": "5df53f6c"
   },
   "source": [
    "En el caso del método birthday() no tomo ningún parámetro  y tampoco regreso ningún parámetro. Sin embargo, un método de un objeto puede tomar parámetros de entrada y salida.\n"
   ]
  },
  {
   "cell_type": "markdown",
   "id": "3b30d086",
   "metadata": {
    "id": "9GjJjUyZjNs-"
   },
   "source": [
    "###Challenge break\n",
    "## 2\n",
    "\n",
    "Dentro de la clase BankAccount, crear un método que se llame depósito, que tenga como argumento una cantidad y que actualice el saldo a: saldo + la cantidad depositada."
   ]
  },
  {
   "cell_type": "code",
   "execution_count": null,
   "id": "6bc3935a",
   "metadata": {
    "id": "XaddP8sGjIXp"
   },
   "outputs": [],
   "source": []
  },
  {
   "cell_type": "markdown",
   "id": "e13e8a99",
   "metadata": {
    "id": "PBxUN3jAl-Xa"
   },
   "source": [
    "### Challenge break \n",
    "## 3\n",
    "Actualizar la clase bankAccount, creando un método que se llame retiro, que tenga como argumento una cantidad y que regrese el saldo - la cantidad retirada, siempre y cuando el saldo sea mayor a la cantidad que se quiera retirar. En caso contrario que imprima la frase 'Saldo insuficiente'."
   ]
  },
  {
   "cell_type": "code",
   "execution_count": null,
   "id": "9e04e3ca",
   "metadata": {
    "id": "YXKtj5yzmdyy"
   },
   "outputs": [],
   "source": []
  },
  {
   "cell_type": "markdown",
   "id": "2515d031",
   "metadata": {
    "id": "SyJMv83bhatd"
   },
   "source": [
    "### **Herencia de clases**\n",
    "Se usa la herencia de clases, cuando se requiere extender una clase antes definida. Por ejemplo, se puede construir una clase que se llame Empleado, (que contenga atributos previamente definidos en la calse Person, como el nombre y la edad de una persona) a partir de la clase Person."
   ]
  },
  {
   "cell_type": "code",
   "execution_count": null,
   "id": "652f258b",
   "metadata": {
    "id": "6d291854"
   },
   "outputs": [],
   "source": [
    "class Empleado(Person):\n",
    "    \"\"\" Clase Empleado\"\"\"\n",
    "    def __init__(self, name, age, id):\n",
    "        Person.__init__(self, name, age)\n",
    "        self.id = id\n",
    "        \n",
    "\n",
    "    def calculate_pay(self, hours_worked):\n",
    "        rate_of_pay = 7.50\n",
    "        if self.age >= 21:\n",
    "            rate_of_pay += 2.50\n",
    "        return hours_worked * rate_of_pay\n",
    "        "
   ]
  },
  {
   "cell_type": "code",
   "execution_count": null,
   "id": "b161e8ff",
   "metadata": {
    "id": "97e18b90"
   },
   "outputs": [],
   "source": [
    "e1 = Empleado('Juan', 36, 13456)\n",
    "e2 = Empleado('Sofi', 20, 15467)\n"
   ]
  },
  {
   "cell_type": "code",
   "execution_count": null,
   "id": "504d6f63",
   "metadata": {
    "id": "ef92fbcc"
   },
   "outputs": [],
   "source": [
    "pay1 = e1.calculate_pay(40)\n",
    "print('Pay', e1.name, pay1)"
   ]
  },
  {
   "cell_type": "code",
   "execution_count": null,
   "id": "9992b6e7",
   "metadata": {
    "id": "031e8336"
   },
   "outputs": [],
   "source": [
    "pay2 = e2.calculate_pay(40)\n",
    "print('Pay', e2.name, pay2)"
   ]
  },
  {
   "cell_type": "code",
   "execution_count": null,
   "id": "572cdd84",
   "metadata": {
    "id": "MJNMYWQwl3S_"
   },
   "outputs": [],
   "source": [
    "e1.birthday()"
   ]
  },
  {
   "cell_type": "markdown",
   "id": "09cf25ea",
   "metadata": {
    "id": "EKa1HeXBsoN2"
   },
   "source": [
    "### Challenge break\n",
    "## 3\n",
    "\n",
    "Crear una clase que se llame BankAccountPremium, que herede los atributos y métodos de la clase Bank Account, pero que el método retiro, permita al cliente hacer un retiro aunque el saldo sea menor a la cantidad a retirar. Nota: La cantidad a retirar cuando el saldo es cero, tendra un límite y este valor será un atributo en la clase BankAccountPremium."
   ]
  },
  {
   "cell_type": "code",
   "execution_count": null,
   "id": "857c40cb",
   "metadata": {
    "id": "L-FT5sCEuUDH"
   },
   "outputs": [],
   "source": []
  }
 ],
 "metadata": {
  "colab": {
   "provenance": []
  },
  "kernelspec": {
   "display_name": "Python 3 (ipykernel)",
   "language": "python",
   "name": "python3"
  },
  "language_info": {
   "codemirror_mode": {
    "name": "ipython",
    "version": 3
   },
   "file_extension": ".py",
   "mimetype": "text/x-python",
   "name": "python",
   "nbconvert_exporter": "python",
   "pygments_lexer": "ipython3",
   "version": "3.8.8"
  }
 },
 "nbformat": 4,
 "nbformat_minor": 5
}
